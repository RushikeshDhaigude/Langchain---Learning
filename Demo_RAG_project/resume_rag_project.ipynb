{
 "cells": [
  {
   "cell_type": "code",
   "execution_count": 17,
   "id": "6eb2bc4e",
   "metadata": {},
   "outputs": [],
   "source": [
    "from langchain_openai import OpenAIEmbeddings\n",
    "from langchain_google_genai import GoogleGenerativeAIEmbeddings\n",
    "from langchain.vectorstores import Chroma\n",
    "from dotenv import load_dotenv\n",
    "import os"
   ]
  },
  {
   "cell_type": "code",
   "execution_count": 18,
   "id": "d401fa10",
   "metadata": {},
   "outputs": [],
   "source": [
    "# Load environment variables from the .env file\n",
    "load_dotenv()\n",
    "\n",
    "# # Access the variables\n",
    "gemini_api_key = os.getenv(\"GEMINI_API_KEY\")"
   ]
  },
  {
   "cell_type": "markdown",
   "id": "3ded4301",
   "metadata": {},
   "source": [
    "#### Step 1: Load and Parse Resume (PDF/Text)"
   ]
  },
  {
   "cell_type": "code",
   "execution_count": 19,
   "id": "f71ebd81",
   "metadata": {},
   "outputs": [],
   "source": [
    "from langchain.document_loaders import PyPDFLoader\n",
    "\n",
    "loader = PyPDFLoader(\"Rushikesh_Resume_DS_2025.pdf\")\n",
    "documents = loader.load()\n",
    "\n",
    "#You can also allow users to upload .txt files or extract from DOCX if needed."
   ]
  },
  {
   "cell_type": "markdown",
   "id": "cb36d957",
   "metadata": {},
   "source": [
    "#### Step 2: Split Resume into Chunks"
   ]
  },
  {
   "cell_type": "code",
   "execution_count": 20,
   "id": "8212786e",
   "metadata": {},
   "outputs": [],
   "source": [
    "from langchain.text_splitter import RecursiveCharacterTextSplitter\n",
    "\n",
    "splitter = RecursiveCharacterTextSplitter(\n",
    "    chunk_size=500,\n",
    "    chunk_overlap=50\n",
    ")\n",
    "\n",
    "docs = splitter.split_documents(documents)"
   ]
  },
  {
   "cell_type": "markdown",
   "id": "20f9da35",
   "metadata": {},
   "source": [
    "#### Step 3: Generate Embeddings using Gemini"
   ]
  },
  {
   "cell_type": "code",
   "execution_count": 21,
   "id": "5b387ec8",
   "metadata": {},
   "outputs": [],
   "source": [
    "from langchain_google_genai import GoogleGenerativeAIEmbeddings\n",
    "\n",
    "# Initialize the embeddings object\n",
    "gemini_embeddings = GoogleGenerativeAIEmbeddings(\n",
    "    model=\"models/embedding-001\",\n",
    "    google_api_key=gemini_api_key\n",
    ")\n"
   ]
  },
  {
   "cell_type": "markdown",
   "id": "97f1d408",
   "metadata": {},
   "source": [
    "#### Step 4: Store Embeddings in a Vector Store (Chroma)"
   ]
  },
  {
   "cell_type": "code",
   "execution_count": 24,
   "id": "9782583c",
   "metadata": {},
   "outputs": [],
   "source": [
    "vector_store = Chroma.from_documents(\n",
    "    embedding=gemini_embeddings,\n",
    "    documents=docs,\n",
    "    persist_directory='rag_resume_db',\n",
    "    collection_name='sample'\n",
    ")"
   ]
  },
  {
   "cell_type": "markdown",
   "id": "2cec1b91",
   "metadata": {},
   "source": [
    "#### Step 5: Set up Retriever"
   ]
  },
  {
   "cell_type": "code",
   "execution_count": 25,
   "id": "a8663954",
   "metadata": {},
   "outputs": [],
   "source": [
    "retriever = vector_store.as_retriever(search_kwargs={\"k\": 5})"
   ]
  },
  {
   "cell_type": "markdown",
   "id": "7bad16e2",
   "metadata": {},
   "source": [
    "#### Step 6: Load Gemini LLM"
   ]
  },
  {
   "cell_type": "code",
   "execution_count": 26,
   "id": "254685f4",
   "metadata": {},
   "outputs": [],
   "source": [
    "from langchain_google_genai import ChatGoogleGenerativeAI\n",
    "\n",
    "gemini_model = ChatGoogleGenerativeAI(model='gemini-1.5-flash', google_api_key=gemini_api_key, temperature=0.3)\n"
   ]
  },
  {
   "cell_type": "markdown",
   "id": "17eb1098",
   "metadata": {},
   "source": [
    "#### Step 7: Create the RAG Chain"
   ]
  },
  {
   "cell_type": "code",
   "execution_count": 27,
   "id": "92b44f91",
   "metadata": {},
   "outputs": [],
   "source": [
    "from langchain.chains import RetrievalQA\n",
    "\n",
    "rag_chain = RetrievalQA.from_chain_type(\n",
    "    llm=gemini_model,\n",
    "    retriever=retriever,\n",
    "    chain_type=\"stuff\"  # can also try \"map_reduce\" or \"refine\"\n",
    ")\n"
   ]
  },
  {
   "cell_type": "markdown",
   "id": "4c39e371",
   "metadata": {},
   "source": [
    "#### Step 8: Ask Questions!"
   ]
  },
  {
   "cell_type": "code",
   "execution_count": 28,
   "id": "629fd1da",
   "metadata": {},
   "outputs": [],
   "source": [
    "query = \"What is my experience in natural language processing?\"\n",
    "answer = rag_chain.run(query)"
   ]
  },
  {
   "cell_type": "code",
   "execution_count": 29,
   "id": "adfbc3c6",
   "metadata": {},
   "outputs": [
    {
     "name": "stdout",
     "output_type": "stream",
     "text": [
      "Your experience in natural language processing (NLP) includes developing an NLP-based classification system using Gemini 1.5 Flash and GPT-4o Mini to automate lost lead categorization.  This system achieved 82% accuracy on 2,000 samples, validated with the call support team.  You also optimized prompting strategies and monitored hallucination/response drift to enhance LLM reliability.\n"
     ]
    }
   ],
   "source": [
    "print(answer)"
   ]
  },
  {
   "cell_type": "code",
   "execution_count": null,
   "id": "2e111f0f",
   "metadata": {},
   "outputs": [],
   "source": []
  }
 ],
 "metadata": {
  "kernelspec": {
   "display_name": "langchain_env",
   "language": "python",
   "name": "python3"
  },
  "language_info": {
   "codemirror_mode": {
    "name": "ipython",
    "version": 3
   },
   "file_extension": ".py",
   "mimetype": "text/x-python",
   "name": "python",
   "nbconvert_exporter": "python",
   "pygments_lexer": "ipython3",
   "version": "3.10.9"
  }
 },
 "nbformat": 4,
 "nbformat_minor": 5
}
